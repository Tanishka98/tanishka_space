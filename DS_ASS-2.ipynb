{
 "cells": [
  {
   "cell_type": "code",
   "execution_count": 2,
   "metadata": {},
   "outputs": [
    {
     "name": "stdout",
     "output_type": "stream",
     "text": [
      "sinha tanishka\n"
     ]
    }
   ],
   "source": [
    "# ASSIGNMENT 1\n",
    "#WAP which accepts the user first & last name & prints them in a reverse order\n",
    "fname= input(\"Enter your first name :\")\n",
    "lname= input(\"Enter your last name :\")\n",
    "print(lname + \" \" + fname)\n"
   ]
  },
  {
   "cell_type": "code",
   "execution_count": null,
   "metadata": {},
   "outputs": [],
   "source": [
    "#WAP which accepts a sequence of comma-seperated numbers from the user and generates a list and a tuple with those numbers.\n",
    "values= input(\"Input some numbers:\")\n",
    "list= values.split(\",\")\n",
    "tuplee= tuple (list)\n",
    "print(\"List: \", list)\n",
    "print(\"Tuple: \", tuplee)"
   ]
  },
  {
   "cell_type": "code",
   "execution_count": 17,
   "metadata": {},
   "outputs": [
    {
     "name": "stdout",
     "output_type": "stream",
     "text": [
      "red black\n"
     ]
    }
   ],
   "source": [
    "#WAP to display the first and last colour from the following list. color_list=[\"red\",\"green\",\"white\",\"black\"]\n",
    "color_list=[\"red\",\"green\",\"white\",\"black\"]\n",
    "print(color_list[0],color_list[3])"
   ]
  },
  {
   "cell_type": "code",
   "execution_count": 19,
   "metadata": {},
   "outputs": [
    {
     "name": "stdout",
     "output_type": "stream",
     "text": [
      "Return the absolute value of the argument.\n",
      "int([x]) -> integer\n",
      "int(x, base=10) -> integer\n",
      "\n",
      "Convert a number or string to an integer, or return 0 if no arguments\n",
      "are given.  If x is a number, return x.__int__().  For floating point\n",
      "numbers, this truncates towards zero.\n",
      "\n",
      "If x is not a number or if base is given, then x must be a string,\n",
      "bytes, or bytearray instance representing an integer literal in the\n",
      "given base.  The literal can be preceded by '+' or '-' and be surrounded\n",
      "by whitespace.  The base defaults to 10.  Valid bases are 0 and 2-36.\n",
      "Base 0 means to interpret the base from the string as an integer literal.\n",
      ">>> int('0b100', base=0)\n",
      "4\n"
     ]
    }
   ],
   "source": [
    "#WAP to print the documents (syntax,description etc.) of python built in functions.\n",
    "print (abs.__doc__)\n",
    "print(int.__doc__)"
   ]
  },
  {
   "cell_type": "code",
   "execution_count": 20,
   "metadata": {},
   "outputs": [
    {
     "name": "stdout",
     "output_type": "stream",
     "text": [
      "     March 2000\n",
      "Mo Tu We Th Fr Sa Su\n",
      "       1  2  3  4  5\n",
      " 6  7  8  9 10 11 12\n",
      "13 14 15 16 17 18 19\n",
      "20 21 22 23 24 25 26\n",
      "27 28 29 30 31\n",
      "\n"
     ]
    }
   ],
   "source": [
    "#WAP to print the calender of a given month and year.\n",
    "import calendar\n",
    "y= int(input(\"Enter the year:\"))\n",
    "m= int(input(\"Enter the month:\"))\n",
    "print(calendar.month(y,m))"
   ]
  },
  {
   "cell_type": "code",
   "execution_count": 21,
   "metadata": {},
   "outputs": [
    {
     "name": "stdout",
     "output_type": "stream",
     "text": [
      "9\n"
     ]
    }
   ],
   "source": [
    "#WAP to calculate number of days between two dates.\n",
    "from datetime import date\n",
    "fdate= date(2014,7,2)\n",
    "ldate= date(2014,7,11)\n",
    "delta= ldate-fdate\n",
    "print(delta.days)"
   ]
  },
  {
   "cell_type": "code",
   "execution_count": 22,
   "metadata": {},
   "outputs": [
    {
     "name": "stdout",
     "output_type": "stream",
     "text": [
      "True\n",
      "False\n"
     ]
    }
   ],
   "source": [
    "#WAP to check whether a specified value is contained in a group of values.\n",
    "def is_group_member(group_data,n):\n",
    "    for value in group_data:\n",
    "        if n == value:\n",
    "            return True\n",
    "    return False\n",
    "print(is_group_member([1,5,8,3],3))\n",
    "print(is_group_member([5,8,3],-1))"
   ]
  },
  {
   "cell_type": "code",
   "execution_count": 23,
   "metadata": {},
   "outputs": [
    {
     "name": "stdout",
     "output_type": "stream",
     "text": [
      "**\n",
      "***\n",
      "********\n",
      "*****\n"
     ]
    }
   ],
   "source": [
    "#WAP to create a histogram from given list of integers.\n",
    "def histogram(items):\n",
    "    for n in items:\n",
    "        output= ''\n",
    "        times= n\n",
    "        while(times>0):\n",
    "            output += '*'\n",
    "            times = times-1\n",
    "        print(output)\n",
    "histogram([2,3,8,5])"
   ]
  },
  {
   "cell_type": "code",
   "execution_count": 24,
   "metadata": {},
   "outputs": [
    {
     "name": "stdout",
     "output_type": "stream",
     "text": [
      "1438\n"
     ]
    }
   ],
   "source": [
    "#WAP  to concatenate all elements in a list into a given list of integers.\n",
    "def concatenate_list_data(list):\n",
    "    result= ''\n",
    "    for element in list:\n",
    "        result += str(element)\n",
    "    return result\n",
    "print(concatenate_list_data([1,4,3,8]))"
   ]
  },
  {
   "cell_type": "code",
   "execution_count": 1,
   "metadata": {},
   "outputs": [
    {
     "name": "stdout",
     "output_type": "stream",
     "text": [
      "[1, 2, 3, 4, 5]\n"
     ]
    }
   ],
   "source": [
    "#ARRAY\n",
    "#WAP to create array of 5 integers and display the array items.\n",
    "arr= [1,2,3,4,5]\n",
    "print(arr)"
   ]
  },
  {
   "cell_type": "code",
   "execution_count": 2,
   "metadata": {},
   "outputs": [
    {
     "name": "stdout",
     "output_type": "stream",
     "text": [
      "original array:  [1, 2, 3, 4, 5]\n",
      "reversed array: [5, 4, 3, 2, 1]\n"
     ]
    }
   ],
   "source": [
    "#WAP to reverse the order of the items in the array.\n",
    "arr= [1,2,3,4,5]\n",
    "print(\"original array: \", arr)\n",
    "arr.reverse()\n",
    "print(\"reversed array:\", arr)"
   ]
  },
  {
   "cell_type": "code",
   "execution_count": 5,
   "metadata": {},
   "outputs": [
    {
     "name": "stdout",
     "output_type": "stream",
     "text": [
      "array: array('i', [1, 2, 3, 4, 4, 4, 2, 5, 3])\n",
      "occurences of the integer 4 is: 3\n"
     ]
    }
   ],
   "source": [
    "#WAP to get the number of occurences of specified element.\n",
    "from array import*\n",
    "arr=array('i', [1,2,3,4,4,4,2,5,3])\n",
    "print(\"array:\", arr)\n",
    "print(\"occurences of the integer 4 is: \"+str(arr.count(4)))"
   ]
  },
  {
   "cell_type": "code",
   "execution_count": 12,
   "metadata": {},
   "outputs": [
    {
     "name": "stdout",
     "output_type": "stream",
     "text": [
      "original array:array('i', [1, 2, 3, 4, 3, 2, 4, 3])\n",
      "after removing first occurence of 3:\n",
      "modified array:array('i', [1, 2, 4, 3, 2, 4, 3])\n"
     ]
    }
   ],
   "source": [
    "#WAP to remove the first occurence of a specified element from array.\n",
    "from array import*\n",
    "arr= array('i',[1,2,3,4,3,2,4,3])\n",
    "print(\"original array:\" +str(arr))\n",
    "print(\"after removing first occurence of 3:\")\n",
    "arr.remove(3)\n",
    "print(\"modified array:\"+str(arr))"
   ]
  },
  {
   "cell_type": "code",
   "execution_count": null,
   "metadata": {},
   "outputs": [],
   "source": [
    "#dictionary\n",
    "#WAP to sort (asc/desc) a dictionary by value.\n",
    "dict={1:2, 3:4, 5:6}\n",
    "print(\"original dictionary:\", dict)\n"
   ]
  },
  {
   "cell_type": "code",
   "execution_count": 13,
   "metadata": {},
   "outputs": [
    {
     "name": "stdout",
     "output_type": "stream",
     "text": [
      "original dictionary: {0: 10, 1: 20}\n",
      "updated dictionary: {0: 10, 1: 20, 2: 30}\n"
     ]
    }
   ],
   "source": [
    "#WAP to add key to a dictionary.\n",
    "dict={0:10, 1:20}\n",
    "print(\"original dictionary:\", dict)\n",
    "dict.update({2:30})\n",
    "print(\"updated dictionary:\", dict)"
   ]
  },
  {
   "cell_type": "code",
   "execution_count": 16,
   "metadata": {},
   "outputs": [
    {
     "name": "stdout",
     "output_type": "stream",
     "text": [
      "{1: 10, 2: 20}\n",
      "{3: 30, 4: 40}\n",
      "{1: 10, 2: 20, 3: 30, 4: 40}\n"
     ]
    }
   ],
   "source": [
    "#WAP to concatenate following dictionaries.\n",
    "dict1={1:10, 2:20}\n",
    "print(dict1)\n",
    "dict2={3:30, 4:40}\n",
    "print(dict2)\n",
    "dict3= {}\n",
    "for d in (dict1, dict2): dict3.update(d)\n",
    "print(dict3)"
   ]
  },
  {
   "cell_type": "code",
   "execution_count": 25,
   "metadata": {},
   "outputs": [
    {
     "name": "stdout",
     "output_type": "stream",
     "text": [
      "original dictionary: {'1': 2, 'b': 3, 'c': 4}\n",
      "new dict: {'b': 3, 'c': 4}\n",
      "{'c': 4}\n"
     ]
    }
   ],
   "source": [
    "#WAP to remove a key from dictinaries.\n",
    "dict={'1':2, 'b':3, 'c':4}\n",
    "print(\"original dictionary:\", dict)\n",
    "if '1' in dict:\n",
    "    del dict['1']\n",
    "print(\"new dict:\", dict)\n",
    "dict.pop('b')\n",
    "print(dict)"
   ]
  },
  {
   "cell_type": "code",
   "execution_count": 27,
   "metadata": {},
   "outputs": [
    {
     "name": "stdout",
     "output_type": "stream",
     "text": [
      "NAME AGE COURSE\n",
      "sam 21 data structure \n",
      "rick 22 machine learning \n",
      "mat 21 OOP \n"
     ]
    }
   ],
   "source": [
    "#WAP to print a dictionary in table format.\n",
    "dict={ (0,0):'sam', (0,1):21, (0,2):'data structure',\n",
    "       (1,0):'rick', (1,1):22, (1,2): 'machine learning',\n",
    "       (2,0):'mat', (2,1): 21, (2,2): 'OOP'\n",
    "       }\n",
    "print(\"NAME\", \"AGE\", \"COURSE\")\n",
    "for i in range(3):\n",
    "    for j in range(3):\n",
    "        print(dict[(i,j)], end=' ')\n",
    "    print()"
   ]
  },
  {
   "cell_type": "code",
   "execution_count": 28,
   "metadata": {},
   "outputs": [
    {
     "name": "stdout",
     "output_type": "stream",
     "text": [
      "{'apple', 'banana', 'carrot'}\n"
     ]
    }
   ],
   "source": [
    "#SETS\n",
    "#WAP to create a set.\n",
    "set={\"carrot\",\"apple\",\"banana\"}\n",
    "print(set)"
   ]
  },
  {
   "cell_type": "code",
   "execution_count": 30,
   "metadata": {},
   "outputs": [
    {
     "name": "stdout",
     "output_type": "stream",
     "text": [
      "apple\n",
      "banana\n",
      "carrot\n"
     ]
    }
   ],
   "source": [
    "#WAP to iteration over set.\n",
    "set={\"carrot\",\"apple\",\"banana\"}\n",
    "for val in set:\n",
    "    print(val)"
   ]
  },
  {
   "cell_type": "code",
   "execution_count": 31,
   "metadata": {},
   "outputs": [
    {
     "name": "stdout",
     "output_type": "stream",
     "text": [
      "set: {'apple', 'banana', 'carrot'}\n",
      "new set: {'cherry', 'apple', 'banana', 'carrot'}\n"
     ]
    }
   ],
   "source": [
    "#WAP to add member in a set.\n",
    "set={\"carrot\",\"apple\",\"banana\"}\n",
    "print(\"set:\", set)\n",
    "set.add(\"cherry\")\n",
    "print(\"new set:\", set)"
   ]
  },
  {
   "cell_type": "code",
   "execution_count": 35,
   "metadata": {},
   "outputs": [
    {
     "name": "stdout",
     "output_type": "stream",
     "text": [
      "set {'apple', 'banana', 'carrot'}\n",
      "new set {'apple', 'banana'}\n"
     ]
    }
   ],
   "source": [
    "#WAP to remove item from a set\n",
    "set={\"carrot\",\"apple\",\"banana\"}\n",
    "print(\"set\", set)\n",
    "set.remove(\"carrot\")\n",
    "print(\"new set\", set)"
   ]
  },
  {
   "cell_type": "code",
   "execution_count": 36,
   "metadata": {},
   "outputs": [
    {
     "name": "stdout",
     "output_type": "stream",
     "text": [
      "list: [1, 2, 3, 4, 5]\n",
      "sum of elements in list: 15\n"
     ]
    }
   ],
   "source": [
    "#LIST\n",
    "#WAP to sum all the items in the list\n",
    "list=[1,2,3,4,5]\n",
    "print(\"list:\", list)\n",
    "total= sum(list)\n",
    "print(\"sum of elements in list:\", total)"
   ]
  },
  {
   "cell_type": "code",
   "execution_count": null,
   "metadata": {},
   "outputs": [],
   "source": [
    "#WAP to remove duplictes from list****\n",
    "list1=[1,2,3,4,5,3,4,6]\n",
    "print(\"original list:\", list1)\n",
    "res= [*set(list1)]\n",
    "print(\"modified list:\", res)"
   ]
  },
  {
   "cell_type": "code",
   "execution_count": 40,
   "metadata": {},
   "outputs": [
    {
     "name": "stdout",
     "output_type": "stream",
     "text": [
      "smallest number in list: 1\n"
     ]
    }
   ],
   "source": [
    "#WAP to get smallest number from list\n",
    "list1=[1,2,3,4,5,3,4,6]\n",
    "print(\"smallest number in list:\", min(list1))"
   ]
  },
  {
   "cell_type": "code",
   "execution_count": 42,
   "metadata": {},
   "outputs": [
    {
     "name": "stdout",
     "output_type": "stream",
     "text": [
      "original list: [1, 2, 3, 4, 5, 3, 4, 6]\n",
      "copied list: [1, 2, 3, 4, 5, 3, 4, 6]\n"
     ]
    }
   ],
   "source": [
    "#WAP to copy a list\n",
    "list1=[1,2,3,4,5,3,4,6]\n",
    "print(\"original list:\", list1)\n",
    "list= list1.copy()\n",
    "print(\"copied list:\",list)"
   ]
  },
  {
   "cell_type": "code",
   "execution_count": 44,
   "metadata": {},
   "outputs": [
    {
     "name": "stdout",
     "output_type": "stream",
     "text": [
      "list1: [1, 2, 3, 4, 5, 6, 7, 8]\n",
      "list2: [5, 6, 7, 8]\n",
      "list3: [1, 2, 3, 4]\n"
     ]
    }
   ],
   "source": [
    "#WAP to get difference between two list\n",
    "list1=[1,2,3,4,5,6,7,8]\n",
    "print(\"list1:\", list1)\n",
    "list2=[5,6,7,8]\n",
    "print(\"list2:\", list2)\n",
    "list3=[]\n",
    "for element in list1:\n",
    "    if element not in list2:\n",
    "        list3.append(element)\n",
    "print(\"list3:\",list3)"
   ]
  },
  {
   "cell_type": "code",
   "execution_count": 45,
   "metadata": {},
   "outputs": [
    {
     "name": "stdout",
     "output_type": "stream",
     "text": [
      "('lata', 1, 'seema')\n"
     ]
    }
   ],
   "source": [
    "#TUPLE\n",
    "#WAP to create a tuple\n",
    "tuple=('lata', 1, 'seema')\n",
    "print(tuple)"
   ]
  },
  {
   "cell_type": "code",
   "execution_count": 46,
   "metadata": {},
   "outputs": [
    {
     "name": "stdout",
     "output_type": "stream",
     "text": [
      "(6, 5, 4, 3, 2, 1)\n"
     ]
    }
   ],
   "source": [
    "#WAP to reverse a tuple\n",
    "def reverse(tuples):\n",
    "    new_tup=()\n",
    "    for k in reversed(tuples):\n",
    "        new_tup= new_tup+(k,)\n",
    "    print(new_tup)\n",
    "tuples= (1,2,3,4,5,6)\n",
    "reverse(tuples)"
   ]
  },
  {
   "cell_type": "code",
   "execution_count": 47,
   "metadata": {},
   "outputs": [
    {
     "name": "stdout",
     "output_type": "stream",
     "text": [
      "(1, 2, 3, 3, 4, 3, 4, 5, 3)\n",
      "4\n"
     ]
    }
   ],
   "source": [
    "#WAP to find repeated item from tuple\n",
    "tuples=(1,2,3,3,4,3,4,5,3)\n",
    "print(tuples)\n",
    "count=tuples.count(3)\n",
    "print(count)"
   ]
  },
  {
   "cell_type": "code",
   "execution_count": 48,
   "metadata": {},
   "outputs": [
    {
     "name": "stdout",
     "output_type": "stream",
     "text": [
      "does tuple contain element? True\n"
     ]
    }
   ],
   "source": [
    "#WAP to check whether item exist in tuple\n",
    "tuple=(1,2,3,4,5,6)\n",
    "n=6\n",
    "res= n in tuple\n",
    "print(\"does tuple contain element?\", res)"
   ]
  },
  {
   "cell_type": "code",
   "execution_count": 49,
   "metadata": {},
   "outputs": [
    {
     "name": "stdout",
     "output_type": "stream",
     "text": [
      "11\n"
     ]
    }
   ],
   "source": [
    "#STRINGS\n",
    "#WAP to calculate length of string\n",
    "str=\"hello world\"\n",
    "print(len(str))"
   ]
  },
  {
   "cell_type": "code",
   "execution_count": 50,
   "metadata": {},
   "outputs": [
    {
     "name": "stdout",
     "output_type": "stream",
     "text": [
      "Counter({'l': 2, 'h': 1, 'e': 1, 'o': 1})\n"
     ]
    }
   ],
   "source": [
    "#WAP to count the character frequency\n",
    "from collections import Counter\n",
    "str=\"hello\"\n",
    "res= Counter(str)\n",
    "print(res)"
   ]
  },
  {
   "cell_type": "code",
   "execution_count": 51,
   "metadata": {},
   "outputs": [
    {
     "name": "stdout",
     "output_type": "stream",
     "text": [
      "hello\n",
      "olleh \n"
     ]
    }
   ],
   "source": [
    "#WAP to reverse a string\n",
    "def reverse(s):\n",
    "    str= \" \"\n",
    "    for i in s:\n",
    "        str= i +str\n",
    "    return str\n",
    "s= \"hello\"\n",
    "print(s)\n",
    "print(reverse(s))"
   ]
  },
  {
   "cell_type": "code",
   "execution_count": 54,
   "metadata": {},
   "outputs": [
    {
     "name": "stdout",
     "output_type": "stream",
     "text": [
      "the word with longest length is h and its length is: 1\n"
     ]
    }
   ],
   "source": [
    "#WAP that takes a list of words and returns the length one\n",
    "def longest_length(a):\n",
    "    max1= len(a[0])\n",
    "    temp= a[0]\n",
    "    for i in a:\n",
    "        if(len(i)>max1):\n",
    "            max1= len(i)\n",
    "            temp=i\n",
    "    print(\"the word with longest length is\", temp , \"and its length is:\", max1)\n",
    "a = (input(\"enter the string:\"))\n",
    "longest_length(a)"
   ]
  }
 ],
 "metadata": {
  "kernelspec": {
   "display_name": "Python 3.9.6 64-bit",
   "language": "python",
   "name": "python3"
  },
  "language_info": {
   "codemirror_mode": {
    "name": "ipython",
    "version": 3
   },
   "file_extension": ".py",
   "mimetype": "text/x-python",
   "name": "python",
   "nbconvert_exporter": "python",
   "pygments_lexer": "ipython3",
   "version": "3.9.6"
  },
  "orig_nbformat": 4,
  "vscode": {
   "interpreter": {
    "hash": "f6246b25e200e4c5124e3e61789ac81350562f0761bbcf92ad9e48654207659c"
   }
  }
 },
 "nbformat": 4,
 "nbformat_minor": 2
}
